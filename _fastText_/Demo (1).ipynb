{
 "cells": [
  {
   "cell_type": "markdown",
   "metadata": {},
   "source": [
    "## Data Engineering"
   ]
  },
  {
   "cell_type": "code",
   "execution_count": 1,
   "metadata": {},
   "outputs": [],
   "source": [
    "import pandas as pd\n",
    "import fasttext_class\n",
    "from sklearn.model_selection import train_test_split\n",
    "import random\n",
    "import csv\n",
    "from pathlib import Path\n",
    "import fasttext\n",
    "\n",
    "# Those are the paths that will be used in this notebook\n",
    "GEN_PATH= 'C:/Users/franc/OneDrive/Documentos/Projects/text_classification/src/fasttext_class/train_data/'\n",
    "RTT_ACC_PATH = 'C:/Users/franc/OneDrive/Documentos/Projects/text_classification/src/fasttext_class/train_data/training100accounting.txt'\n",
    "RTT_FIN_PATH = 'C:/Users/franc/OneDrive/Documentos/Projects/text_classification/src/fasttext_class/train_data/train_finances.txt'\n",
    "MERGED_PATH= 'C:/Users/franc/OneDrive/Documentos/Projects/text_classification/src/fasttext_class/train_data/merged.txt'\n",
    "SHUFFLED_PATH='C:/Users/franc/OneDrive/Documentos/Projects/text_classification/src/fasttext_class/train_data/merged_and_shuffled.txt'\n",
    "TRAIN_PATH='C:/Users/franc/OneDrive/Documentos/Projects/text_classification/src/fasttext_class/train_data/to_train.txt'\n",
    "TEST_PATH='C:/Users/franc/OneDrive/Documentos/Projects/text_classification/src/fasttext_class/train_data/to_test.txt'"
   ]
  },
  {
   "cell_type": "code",
   "execution_count": 2,
   "metadata": {},
   "outputs": [],
   "source": [
    "rtts_accounting = pd.read_csv(RTT_ACC_PATH, sep='\\t', header=None)\n",
    "rtts_finances = pd.read_csv(RTT_FIN_PATH, sep='\\t', header=None)\n",
    "merged = pd.concat([rtts_accounting, rtts_finances])\n"
   ]
  },
  {
   "cell_type": "code",
   "execution_count": 3,
   "metadata": {},
   "outputs": [
    {
     "data": {
      "text/html": [
       "<div>\n",
       "<style scoped>\n",
       "    .dataframe tbody tr th:only-of-type {\n",
       "        vertical-align: middle;\n",
       "    }\n",
       "\n",
       "    .dataframe tbody tr th {\n",
       "        vertical-align: top;\n",
       "    }\n",
       "\n",
       "    .dataframe thead th {\n",
       "        text-align: right;\n",
       "    }\n",
       "</style>\n",
       "<table border=\"1\" class=\"dataframe\">\n",
       "  <thead>\n",
       "    <tr style=\"text-align: right;\">\n",
       "      <th></th>\n",
       "      <th>0</th>\n",
       "      <th>1</th>\n",
       "    </tr>\n",
       "  </thead>\n",
       "  <tbody>\n",
       "    <tr>\n",
       "      <th>0</th>\n",
       "      <td>__label__accounting</td>\n",
       "      <td>240 Accountancy : Company Accounts and Analysi...</td>\n",
       "    </tr>\n",
       "    <tr>\n",
       "      <th>1</th>\n",
       "      <td>__label__accounting</td>\n",
       "      <td>Accounting for Share Capital 4 3  (II) Amount ...</td>\n",
       "    </tr>\n",
       "    <tr>\n",
       "      <th>2</th>\n",
       "      <td>__label__accounting</td>\n",
       "      <td>Recording of Transactions — II 127  Pawan Elec...</td>\n",
       "    </tr>\n",
       "    <tr>\n",
       "      <th>3</th>\n",
       "      <td>__label__accounting</td>\n",
       "      <td>Accounting for Share Capital 5 5  Working Note...</td>\n",
       "    </tr>\n",
       "    <tr>\n",
       "      <th>4</th>\n",
       "      <td>__label__accounting</td>\n",
       "      <td>Financial Statements of a Company 1 4 1  amoun...</td>\n",
       "    </tr>\n",
       "  </tbody>\n",
       "</table>\n",
       "</div>"
      ],
      "text/plain": [
       "                     0                                                  1\n",
       "0  __label__accounting  240 Accountancy : Company Accounts and Analysi...\n",
       "1  __label__accounting  Accounting for Share Capital 4 3  (II) Amount ...\n",
       "2  __label__accounting  Recording of Transactions — II 127  Pawan Elec...\n",
       "3  __label__accounting  Accounting for Share Capital 5 5  Working Note...\n",
       "4  __label__accounting  Financial Statements of a Company 1 4 1  amoun..."
      ]
     },
     "execution_count": 3,
     "metadata": {},
     "output_type": "execute_result"
    }
   ],
   "source": [
    "merged.head()"
   ]
  },
  {
   "cell_type": "code",
   "execution_count": 4,
   "metadata": {},
   "outputs": [
    {
     "data": {
      "text/html": [
       "<div>\n",
       "<style scoped>\n",
       "    .dataframe tbody tr th:only-of-type {\n",
       "        vertical-align: middle;\n",
       "    }\n",
       "\n",
       "    .dataframe tbody tr th {\n",
       "        vertical-align: top;\n",
       "    }\n",
       "\n",
       "    .dataframe thead th {\n",
       "        text-align: right;\n",
       "    }\n",
       "</style>\n",
       "<table border=\"1\" class=\"dataframe\">\n",
       "  <thead>\n",
       "    <tr style=\"text-align: right;\">\n",
       "      <th></th>\n",
       "      <th>0</th>\n",
       "      <th>1</th>\n",
       "    </tr>\n",
       "  </thead>\n",
       "  <tbody>\n",
       "    <tr>\n",
       "      <th>95</th>\n",
       "      <td>__label__finances</td>\n",
       "      <td>'Golden economic period' to end  Ten years of ...</td>\n",
       "    </tr>\n",
       "    <tr>\n",
       "      <th>96</th>\n",
       "      <td>__label__finances</td>\n",
       "      <td>Industrial output falls in Japan  Japanese ind...</td>\n",
       "    </tr>\n",
       "    <tr>\n",
       "      <th>97</th>\n",
       "      <td>__label__finances</td>\n",
       "      <td>Jobs go at Oracle after takeover  Oracle has a...</td>\n",
       "    </tr>\n",
       "    <tr>\n",
       "      <th>98</th>\n",
       "      <td>__label__finances</td>\n",
       "      <td>Beijingers fume over parking fees  Choking tra...</td>\n",
       "    </tr>\n",
       "    <tr>\n",
       "      <th>99</th>\n",
       "      <td>__label__finances</td>\n",
       "      <td>GM issues 2005 profits warning  General Motors...</td>\n",
       "    </tr>\n",
       "  </tbody>\n",
       "</table>\n",
       "</div>"
      ],
      "text/plain": [
       "                    0                                                  1\n",
       "95  __label__finances  'Golden economic period' to end  Ten years of ...\n",
       "96  __label__finances  Industrial output falls in Japan  Japanese ind...\n",
       "97  __label__finances  Jobs go at Oracle after takeover  Oracle has a...\n",
       "98  __label__finances  Beijingers fume over parking fees  Choking tra...\n",
       "99  __label__finances  GM issues 2005 profits warning  General Motors..."
      ]
     },
     "execution_count": 4,
     "metadata": {},
     "output_type": "execute_result"
    }
   ],
   "source": [
    "merged.tail()"
   ]
  },
  {
   "cell_type": "code",
   "execution_count": 5,
   "metadata": {},
   "outputs": [],
   "source": [
    "merged.to_csv(MERGED_PATH, sep='\\t', header=None)"
   ]
  },
  {
   "cell_type": "markdown",
   "metadata": {},
   "source": [
    "## Shuffling the occurences"
   ]
  },
  {
   "cell_type": "code",
   "execution_count": 6,
   "metadata": {},
   "outputs": [],
   "source": [
    "shuffled_merged= merged.sample(frac=1).reset_index(drop=True)"
   ]
  },
  {
   "cell_type": "code",
   "execution_count": 7,
   "metadata": {},
   "outputs": [
    {
     "data": {
      "text/html": [
       "<div>\n",
       "<style scoped>\n",
       "    .dataframe tbody tr th:only-of-type {\n",
       "        vertical-align: middle;\n",
       "    }\n",
       "\n",
       "    .dataframe tbody tr th {\n",
       "        vertical-align: top;\n",
       "    }\n",
       "\n",
       "    .dataframe thead th {\n",
       "        text-align: right;\n",
       "    }\n",
       "</style>\n",
       "<table border=\"1\" class=\"dataframe\">\n",
       "  <thead>\n",
       "    <tr style=\"text-align: right;\">\n",
       "      <th></th>\n",
       "      <th>0</th>\n",
       "      <th>1</th>\n",
       "    </tr>\n",
       "  </thead>\n",
       "  <tbody>\n",
       "    <tr>\n",
       "      <th>0</th>\n",
       "      <td>__label__accounting</td>\n",
       "      <td>Accounting for Share Capital 5 5  Working Note...</td>\n",
       "    </tr>\n",
       "    <tr>\n",
       "      <th>1</th>\n",
       "      <td>__label__finances</td>\n",
       "      <td>US adds more jobs than expected  The US econom...</td>\n",
       "    </tr>\n",
       "    <tr>\n",
       "      <th>2</th>\n",
       "      <td>__label__finances</td>\n",
       "      <td>German economy rebounds  Germany's economy, th...</td>\n",
       "    </tr>\n",
       "    <tr>\n",
       "      <th>3</th>\n",
       "      <td>__label__finances</td>\n",
       "      <td>US economy still growing says Fed  Most areas ...</td>\n",
       "    </tr>\n",
       "    <tr>\n",
       "      <th>4</th>\n",
       "      <td>__label__finances</td>\n",
       "      <td>Asian quake hits European shares  Shares in Eu...</td>\n",
       "    </tr>\n",
       "  </tbody>\n",
       "</table>\n",
       "</div>"
      ],
      "text/plain": [
       "                     0                                                  1\n",
       "0  __label__accounting  Accounting for Share Capital 5 5  Working Note...\n",
       "1    __label__finances  US adds more jobs than expected  The US econom...\n",
       "2    __label__finances  German economy rebounds  Germany's economy, th...\n",
       "3    __label__finances  US economy still growing says Fed  Most areas ...\n",
       "4    __label__finances  Asian quake hits European shares  Shares in Eu..."
      ]
     },
     "execution_count": 7,
     "metadata": {},
     "output_type": "execute_result"
    }
   ],
   "source": [
    "shuffled_merged.head()"
   ]
  },
  {
   "cell_type": "code",
   "execution_count": 8,
   "metadata": {},
   "outputs": [],
   "source": [
    "shuffled_merged.to_csv(SHUFFLED_PATH, sep='\\t', header=None)"
   ]
  },
  {
   "cell_type": "markdown",
   "metadata": {},
   "source": [
    "## Creating train and test columns"
   ]
  },
  {
   "cell_type": "code",
   "execution_count": 9,
   "metadata": {},
   "outputs": [],
   "source": [
    "X_train, X_test , y_train, y_test = train_test_split(shuffled_merged[1], shuffled_merged[0], test_size=0.33, random_state=42)"
   ]
  },
  {
   "cell_type": "markdown",
   "metadata": {},
   "source": [
    "## Creating train file"
   ]
  },
  {
   "cell_type": "code",
   "execution_count": 10,
   "metadata": {},
   "outputs": [],
   "source": [
    "train=pd.DataFrame(X_train)"
   ]
  },
  {
   "cell_type": "code",
   "execution_count": 11,
   "metadata": {},
   "outputs": [],
   "source": [
    "train.insert(0, '', y_train, True)"
   ]
  },
  {
   "cell_type": "code",
   "execution_count": 12,
   "metadata": {},
   "outputs": [],
   "source": [
    "#saving train file\n",
    "train.to_csv(TRAIN_PATH, sep='\\t', header=None, index=False)"
   ]
  },
  {
   "cell_type": "markdown",
   "metadata": {},
   "source": [
    "## Creating test file"
   ]
  },
  {
   "cell_type": "code",
   "execution_count": 13,
   "metadata": {},
   "outputs": [],
   "source": [
    "test=pd.DataFrame(X_test)"
   ]
  },
  {
   "cell_type": "code",
   "execution_count": 14,
   "metadata": {},
   "outputs": [],
   "source": [
    "test.insert(0, '', y_test, True)"
   ]
  },
  {
   "cell_type": "code",
   "execution_count": 15,
   "metadata": {},
   "outputs": [],
   "source": [
    "#saving test file\n",
    "test.to_csv(TEST_PATH, sep='\\t', header=None, index=False)"
   ]
  },
  {
   "cell_type": "markdown",
   "metadata": {},
   "source": [
    "## Loading the files"
   ]
  },
  {
   "cell_type": "code",
   "execution_count": 16,
   "metadata": {},
   "outputs": [],
   "source": [
    "data_folder = Path(GEN_PATH)\n",
    "file_to_open = data_folder / \"to_train.txt\"\n",
    "with open(file_to_open, encoding='utf-8') as train_txt:\n",
    "    train_rtt=train_txt.read()\n"
   ]
  },
  {
   "cell_type": "code",
   "execution_count": 17,
   "metadata": {},
   "outputs": [],
   "source": [
    "data_folder = Path(GEN_PATH)\n",
    "file_to_open2 = data_folder / \"to_test.txt\"\n",
    "with open(file_to_open2, encoding='utf-8') as test_txt:\n",
    "    test_rtt=test_txt.read()"
   ]
  },
  {
   "cell_type": "markdown",
   "metadata": {},
   "source": [
    "## Creating the model"
   ]
  },
  {
   "cell_type": "code",
   "execution_count": 18,
   "metadata": {
    "scrolled": true
   },
   "outputs": [],
   "source": [
    "model_1=fasttext_class.fasttext_c(train_data=str(file_to_open))"
   ]
  },
  {
   "cell_type": "code",
   "execution_count": 22,
   "metadata": {},
   "outputs": [
    {
     "data": {
      "text/plain": [
       "(66, 1.0, 1.0)"
      ]
     },
     "execution_count": 22,
     "metadata": {},
     "output_type": "execute_result"
    }
   ],
   "source": [
    "model_1.fasttext_test(str(file_to_open2))"
   ]
  },
  {
   "cell_type": "code",
   "execution_count": 32,
   "metadata": {},
   "outputs": [
    {
     "data": {
      "text/plain": [
       "(('__label__finances',), array([0.99961621]))"
      ]
     },
     "execution_count": 32,
     "metadata": {},
     "output_type": "execute_result"
    }
   ],
   "source": [
    "model_1.fasttext_labeler('Fellipe is borrowing money with a low interest rate')"
   ]
  },
  {
   "cell_type": "code",
   "execution_count": 48,
   "metadata": {},
   "outputs": [
    {
     "data": {
      "text/plain": [
       "(('__label__accounting',), array([0.74799633]))"
      ]
     },
     "execution_count": 48,
     "metadata": {},
     "output_type": "execute_result"
    }
   ],
   "source": [
    "model_1.fasttext_labeler(\"Pay your bill right now and avoid fees!\")"
   ]
  }
 ],
 "metadata": {
  "kernelspec": {
   "display_name": "Python 3",
   "language": "python",
   "name": "python3"
  },
  "language_info": {
   "codemirror_mode": {
    "name": "ipython",
    "version": 3
   },
   "file_extension": ".py",
   "mimetype": "text/x-python",
   "name": "python",
   "nbconvert_exporter": "python",
   "pygments_lexer": "ipython3",
   "version": "3.6.10"
  }
 },
 "nbformat": 4,
 "nbformat_minor": 4
}
