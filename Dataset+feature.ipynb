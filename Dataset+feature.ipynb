{
 "cells": [
  {
   "cell_type": "code",
   "execution_count": 1,
   "metadata": {},
   "outputs": [],
   "source": [
    "#Importing Packages\n",
    "import numpy as np\n",
    "import pandas as pd\n",
    "import matplotlib.pyplot as plt\n",
    "import sklearn\n",
    "from sklearn.cluster import AffinityPropagation\n",
    "import matplotlib.pyplot as plt\n",
    "from sklearn import metrics\n",
    "from sklearn import metrics\n",
    "from itertools import cycle\n",
    "from glove.glovevectorizer import GloveVectorizer\n",
    "from POS.POS_retriever import POS_retriever\n",
    "from NER.NER_retriever import NER_retriever"
   ]
  },
  {
   "cell_type": "code",
   "execution_count": null,
   "metadata": {},
   "outputs": [],
   "source": [
    "train = pd.read_csv('train/r52-train-all-terms.txt', header=None, sep='\\t')\n",
    "test = pd.read_csv('test/r52-test-all-terms.txt', header=None, sep='\\t')\n",
    "train.columns = ['label', 'content']\n",
    "test.columns = ['label', 'content']\n",
    "train['lenght'] = train['content'].str.len()\n",
    "lenght_mn=train['lenght'].mean()\n",
    "train['lenght_mean']=(lambda x: train['lenght']/lenght_mn)(train['lenght'].values)\n",
    "train['words_num'] = train['content'].str.split().str.len()\n",
    "train['words_len_med'] = train['content'].str.len()/train['words_num']\n",
    "train['words_num_norm'] = (train['words_num'] - train['words_num'].min())/(train['words_num'].max()-train['words_num'].min())\n",
    "train['words_len_med_norm'] = (train['words_len_med'] - train['words_len_med'].min())/(train['words_len_med'].max()-train['words_len_med'].min())\n",
    "train['lenght_norm'] = (train['lenght'] - train['lenght'].min())/(train['lenght'].max()-train['lenght'].min())\n",
    "train['words_num_norm'] = (train['words_num'] - train['words_num'].min())/(train['words_num'].max()-train['words_num'].min())\n",
    "train['words_len_med_norm'] = (train['words_len_med'] - train['words_len_med'].min())/(train['words_len_med'].max()-train['words_len_med'].min())\n",
    "# -----------------------------------------------------------------------------------------------------------#\n",
    "#Creating a column that includes POS coming from the class POS created before\n",
    "retriever = POS_retriever()\n",
    "retriever_1=NER_retriever()\n",
    "train['NER'] = train.apply(lambda row: retriever_1.NER(row.content), axis=1)\n",
    "train['POS'] = train.apply(lambda row: retriever.POS(row.content), axis=1)\n",
    "\n",
    "#train['POS']= retriever.POS(str(train['content'].values))"
   ]
  },
  {
   "cell_type": "code",
   "execution_count": null,
   "metadata": {},
   "outputs": [],
   "source": [
    "train['content'].str"
   ]
  },
  {
   "cell_type": "code",
   "execution_count": null,
   "metadata": {},
   "outputs": [],
   "source": [
    "train.head()"
   ]
  },
  {
   "cell_type": "code",
   "execution_count": null,
   "metadata": {},
   "outputs": [],
   "source": []
  },
  {
   "cell_type": "code",
   "execution_count": null,
   "metadata": {},
   "outputs": [],
   "source": []
  },
  {
   "cell_type": "code",
   "execution_count": null,
   "metadata": {},
   "outputs": [],
   "source": []
  }
 ],
 "metadata": {
  "kernelspec": {
   "display_name": "Python 3",
   "language": "python",
   "name": "python3"
  },
  "language_info": {
   "codemirror_mode": {
    "name": "ipython",
    "version": 3
   },
   "file_extension": ".py",
   "mimetype": "text/x-python",
   "name": "python",
   "nbconvert_exporter": "python",
   "pygments_lexer": "ipython3",
   "version": "3.7.3"
  }
 },
 "nbformat": 4,
 "nbformat_minor": 2
}
