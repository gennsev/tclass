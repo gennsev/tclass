{
 "cells": [
  {
   "cell_type": "markdown",
   "metadata": {},
   "source": [
    "# Importing Packages"
   ]
  },
  {
   "cell_type": "code",
   "execution_count": 1,
   "metadata": {},
   "outputs": [],
   "source": [
    "import pandas as pd\n",
    "import fasttext_class\n",
    "from sklearn.model_selection import train_test_split\n",
    "from pathlib import Path\n",
    "import fasttext\n",
    "import os\n",
    "\n",
    "RAW_DATA_PATH = 'raw_data/'\n",
    "GENERATED_DATA_PATH = 'Gen_files/'\n",
    "MERGED_DATA_PATH ='Merged/'\n",
    "SHUFFLED_MERGED_DATA_PATH = 'Shuffled_merged/'\n",
    "DATA_FINAL_PATH = 'data_final/'\n"
   ]
  },
  {
   "cell_type": "markdown",
   "metadata": {},
   "source": [
    "## Generate the Files"
   ]
  },
  {
   "cell_type": "code",
   "execution_count": 2,
   "metadata": {},
   "outputs": [],
   "source": [
    "def read_all_texts(path_to_folders, outfile_path):\n",
    "    init_model=fasttext_class.fasttext_c()\n",
    "    for folder in os.listdir(f'{path_to_folders}'):\n",
    "        for filename in os.listdir(f'{path_to_folders}/{folder}'):\n",
    "            with open(f'{path_to_folders}/{folder}/{filename}', encoding='utf-8') as f:\n",
    "                init_model.gen_training(path= f'{path_to_folders}/{folder}', label= f'{folder}', outfile_path=f'{outfile_path}/{folder}')\n"
   ]
  },
  {
   "cell_type": "code",
   "execution_count": 3,
   "metadata": {},
   "outputs": [
    {
     "name": "stdout",
     "output_type": "stream",
     "text": [
      "[ERROR] No training data.\n"
     ]
    }
   ],
   "source": [
    "read_all_texts(RAW_DATA_PATH, GENERATED_DATA_PATH)"
   ]
  },
  {
   "cell_type": "markdown",
   "metadata": {},
   "source": [
    "# Merging Files"
   ]
  },
  {
   "cell_type": "code",
   "execution_count": 4,
   "metadata": {},
   "outputs": [],
   "source": [
    "def merge_file(path_to_folder, outfile_path):\n",
    "    for file in os.listdir(f'{path_to_folder}'):\n",
    "            with open(f'{path_to_folder}/{file}', encoding='utf-8') as fp: \n",
    "                data = fp.read() \n",
    "                data += '\\n'\n",
    "                file_lst=[]\n",
    "                for filename in os.listdir(path_to_folder):\n",
    "                    with open(f'{path_to_folder}/{filename}', encoding='utf-8') as f:\n",
    "                        file_content = pd.read_csv(f, sep='\\t', header=None)\n",
    "                        file_lst.append(file_content)\n",
    "                        \n",
    "                merged = pd.concat(file_lst)\n",
    "                merged.to_csv(f'{outfile_path}/' + 'merged', header=False, index=False, sep='\\t')"
   ]
  },
  {
   "cell_type": "code",
   "execution_count": 5,
   "metadata": {},
   "outputs": [],
   "source": [
    "merge_file(GENERATED_DATA_PATH, MERGED_DATA_PATH)"
   ]
  },
  {
   "cell_type": "markdown",
   "metadata": {},
   "source": [
    "## Shuffling the Data"
   ]
  },
  {
   "cell_type": "code",
   "execution_count": 6,
   "metadata": {},
   "outputs": [],
   "source": [
    "def shuffler(path_to_folder, outfile_path):\n",
    "    for file in os.listdir(f'{path_to_folder}'):\n",
    "            with open(f'{path_to_folder}/{file}', encoding='utf-8') as fp:\n",
    "                df=pd.read_csv(fp, sep='\\t', header=None)\n",
    "                df = df.sample(frac=1).reset_index(drop=True)\n",
    "    return df\n",
    "    df.to_csv(f'{outfile_path}/' + 'shuffled_merged' + '.txt', header=False, index=False, sep='\\t')"
   ]
  },
  {
   "cell_type": "code",
   "execution_count": 7,
   "metadata": {},
   "outputs": [],
   "source": [
    "shuffled_merged=shuffler(MERGED_DATA_PATH, SHUFFLED_MERGED_DATA_PATH)"
   ]
  },
  {
   "cell_type": "markdown",
   "metadata": {},
   "source": [
    "## Creating train and test columns"
   ]
  },
  {
   "cell_type": "code",
   "execution_count": 8,
   "metadata": {},
   "outputs": [],
   "source": [
    "X_train, X_test , y_train, y_test = train_test_split(shuffled_merged[1], shuffled_merged[0], test_size=0.33, random_state=42)"
   ]
  },
  {
   "cell_type": "markdown",
   "metadata": {},
   "source": [
    "## Creating train file"
   ]
  },
  {
   "cell_type": "code",
   "execution_count": 9,
   "metadata": {},
   "outputs": [],
   "source": [
    "train=pd.DataFrame(X_train)"
   ]
  },
  {
   "cell_type": "code",
   "execution_count": 10,
   "metadata": {},
   "outputs": [],
   "source": [
    "train.insert(0, '', y_train, True)"
   ]
  },
  {
   "cell_type": "code",
   "execution_count": 11,
   "metadata": {},
   "outputs": [],
   "source": [
    "#saving train file\n",
    "train.to_csv(DATA_FINAL_PATH + 'train_data.txt', sep='\\t', header=None, index=False)"
   ]
  },
  {
   "cell_type": "markdown",
   "metadata": {},
   "source": [
    "## Creating test file"
   ]
  },
  {
   "cell_type": "code",
   "execution_count": 12,
   "metadata": {},
   "outputs": [],
   "source": [
    "test=pd.DataFrame(X_test)"
   ]
  },
  {
   "cell_type": "code",
   "execution_count": 13,
   "metadata": {},
   "outputs": [],
   "source": [
    "test.insert(0, '', y_test, True)"
   ]
  },
  {
   "cell_type": "code",
   "execution_count": 14,
   "metadata": {},
   "outputs": [],
   "source": [
    "#saving test file\n",
    "test.to_csv(DATA_FINAL_PATH + 'test_data.txt', sep='\\t', header=None, index=False)"
   ]
  },
  {
   "cell_type": "markdown",
   "metadata": {},
   "source": [
    "## Loading the files- Train"
   ]
  },
  {
   "cell_type": "code",
   "execution_count": 15,
   "metadata": {},
   "outputs": [],
   "source": [
    "with open(DATA_FINAL_PATH + 'train_data.txt', encoding='utf-8') as train_txt:\n",
    "    final_train_data=train_txt.read()\n"
   ]
  },
  {
   "cell_type": "markdown",
   "metadata": {},
   "source": [
    "## Loading the files- Test"
   ]
  },
  {
   "cell_type": "code",
   "execution_count": 16,
   "metadata": {},
   "outputs": [],
   "source": [
    "with open(DATA_FINAL_PATH + 'test_data.txt', encoding='utf-8') as test_txt:\n",
    "    final_test_data=test_txt.read()"
   ]
  },
  {
   "cell_type": "markdown",
   "metadata": {},
   "source": [
    "## Creating the model"
   ]
  },
  {
   "cell_type": "code",
   "execution_count": 17,
   "metadata": {
    "scrolled": true
   },
   "outputs": [],
   "source": [
    "model_1=fasttext_class.fasttext_c(train_data=str(DATA_FINAL_PATH + 'train_data.txt'))"
   ]
  },
  {
   "cell_type": "code",
   "execution_count": 18,
   "metadata": {},
   "outputs": [
    {
     "data": {
      "text/plain": [
       "(100, 0.96, 0.96)"
      ]
     },
     "execution_count": 18,
     "metadata": {},
     "output_type": "execute_result"
    }
   ],
   "source": [
    "model_1.fasttext_test(DATA_FINAL_PATH + 'test_data.txt')"
   ]
  }
 ],
 "metadata": {
  "kernelspec": {
   "display_name": "Python 3",
   "language": "python",
   "name": "python3"
  },
  "language_info": {
   "codemirror_mode": {
    "name": "ipython",
    "version": 3
   },
   "file_extension": ".py",
   "mimetype": "text/x-python",
   "name": "python",
   "nbconvert_exporter": "python",
   "pygments_lexer": "ipython3",
   "version": "3.6.10"
  }
 },
 "nbformat": 4,
 "nbformat_minor": 4
}
