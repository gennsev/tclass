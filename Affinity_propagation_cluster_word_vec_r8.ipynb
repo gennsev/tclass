{
 "cells": [
  {
   "cell_type": "code",
   "execution_count": 1,
   "metadata": {},
   "outputs": [],
   "source": [
    "#Importing Packages\n",
    "import numpy as np\n",
    "import pandas as pd\n",
    "import matplotlib.pyplot as plt\n",
    "import sklearn\n",
    "from sklearn.cluster import AffinityPropagation\n",
    "import matplotlib.pyplot as plt\n",
    "from sklearn import metrics\n",
    "from sklearn import metrics\n",
    "from itertools import cycle"
   ]
  },
  {
   "cell_type": "code",
   "execution_count": 2,
   "metadata": {},
   "outputs": [
    {
     "data": {
      "text/html": [
       "<div>\n",
       "<style scoped>\n",
       "    .dataframe tbody tr th:only-of-type {\n",
       "        vertical-align: middle;\n",
       "    }\n",
       "\n",
       "    .dataframe tbody tr th {\n",
       "        vertical-align: top;\n",
       "    }\n",
       "\n",
       "    .dataframe thead th {\n",
       "        text-align: right;\n",
       "    }\n",
       "</style>\n",
       "<table border=\"1\" class=\"dataframe\">\n",
       "  <thead>\n",
       "    <tr style=\"text-align: right;\">\n",
       "      <th></th>\n",
       "      <th>label</th>\n",
       "      <th>content</th>\n",
       "      <th>lenght</th>\n",
       "      <th>lenght_mean</th>\n",
       "      <th>words_num</th>\n",
       "      <th>words_len_med</th>\n",
       "      <th>words_num_norm</th>\n",
       "      <th>words_len_med_norm</th>\n",
       "      <th>lenght_norm</th>\n",
       "    </tr>\n",
       "  </thead>\n",
       "  <tbody>\n",
       "    <tr>\n",
       "      <th>0</th>\n",
       "      <td>earn</td>\n",
       "      <td>champion products ch approves stock split cham...</td>\n",
       "      <td>361</td>\n",
       "      <td>0.596235</td>\n",
       "      <td>62</td>\n",
       "      <td>5.822581</td>\n",
       "      <td>0.059437</td>\n",
       "      <td>0.438223</td>\n",
       "      <td>0.062868</td>\n",
       "    </tr>\n",
       "    <tr>\n",
       "      <th>1</th>\n",
       "      <td>acq</td>\n",
       "      <td>computer terminal systems cpml completes sale ...</td>\n",
       "      <td>1246</td>\n",
       "      <td>2.057919</td>\n",
       "      <td>210</td>\n",
       "      <td>5.933333</td>\n",
       "      <td>0.213764</td>\n",
       "      <td>0.459119</td>\n",
       "      <td>0.230959</td>\n",
       "    </tr>\n",
       "    <tr>\n",
       "      <th>2</th>\n",
       "      <td>earn</td>\n",
       "      <td>cobanco inc cbco year net shr cts vs dlrs net ...</td>\n",
       "      <td>221</td>\n",
       "      <td>0.365008</td>\n",
       "      <td>44</td>\n",
       "      <td>5.022727</td>\n",
       "      <td>0.040667</td>\n",
       "      <td>0.287307</td>\n",
       "      <td>0.036277</td>\n",
       "    </tr>\n",
       "    <tr>\n",
       "      <th>3</th>\n",
       "      <td>earn</td>\n",
       "      <td>am international inc am nd qtr jan oper shr lo...</td>\n",
       "      <td>465</td>\n",
       "      <td>0.768003</td>\n",
       "      <td>93</td>\n",
       "      <td>5.000000</td>\n",
       "      <td>0.091762</td>\n",
       "      <td>0.283019</td>\n",
       "      <td>0.082621</td>\n",
       "    </tr>\n",
       "    <tr>\n",
       "      <th>4</th>\n",
       "      <td>earn</td>\n",
       "      <td>brown forman inc bfd th qtr net shr one dlr vs...</td>\n",
       "      <td>151</td>\n",
       "      <td>0.249395</td>\n",
       "      <td>35</td>\n",
       "      <td>4.314286</td>\n",
       "      <td>0.031283</td>\n",
       "      <td>0.153639</td>\n",
       "      <td>0.022982</td>\n",
       "    </tr>\n",
       "  </tbody>\n",
       "</table>\n",
       "</div>"
      ],
      "text/plain": [
       "  label                                            content  lenght  \\\n",
       "0  earn  champion products ch approves stock split cham...     361   \n",
       "1   acq  computer terminal systems cpml completes sale ...    1246   \n",
       "2  earn  cobanco inc cbco year net shr cts vs dlrs net ...     221   \n",
       "3  earn  am international inc am nd qtr jan oper shr lo...     465   \n",
       "4  earn  brown forman inc bfd th qtr net shr one dlr vs...     151   \n",
       "\n",
       "   lenght_mean  words_num  words_len_med  words_num_norm  words_len_med_norm  \\\n",
       "0     0.596235         62       5.822581        0.059437            0.438223   \n",
       "1     2.057919        210       5.933333        0.213764            0.459119   \n",
       "2     0.365008         44       5.022727        0.040667            0.287307   \n",
       "3     0.768003         93       5.000000        0.091762            0.283019   \n",
       "4     0.249395         35       4.314286        0.031283            0.153639   \n",
       "\n",
       "   lenght_norm  \n",
       "0     0.062868  \n",
       "1     0.230959  \n",
       "2     0.036277  \n",
       "3     0.082621  \n",
       "4     0.022982  "
      ]
     },
     "execution_count": 2,
     "metadata": {},
     "output_type": "execute_result"
    }
   ],
   "source": [
    "#Loading Dataset\n",
    "#-------------------------------------------------------------------------------#\n",
    "train = pd.read_csv('r8-train-all-terms.txt', header=None, sep='\\t')\n",
    "test = pd.read_csv('r8-test-all-terms.txt', header=None, sep='\\t')\n",
    "train.columns = ['label', 'content']\n",
    "test.columns = ['label', 'content']\n",
    "train['lenght'] = train['content'].str.len()\n",
    "lenght_mn=train['lenght'].mean()\n",
    "train['lenght_mean']=(lambda x: train['lenght']/lenght_mn)(train['lenght'].values)\n",
    "train['words_num'] = train['content'].str.split().str.len()\n",
    "train['words_len_med'] = train['content'].str.len()/train['words_num']\n",
    "train['words_num_norm'] = (train['words_num'] - train['words_num'].min())/(train['words_num'].max()-train['words_num'].min())\n",
    "train['words_len_med_norm'] = (train['words_len_med'] - train['words_len_med'].min())/(train['words_len_med'].max()-train['words_len_med'].min())\n",
    "train['lenght_norm'] = (train['lenght'] - train['lenght'].min())/(train['lenght'].max()-train['lenght'].min())\n",
    "train['words_num_norm'] = (train['words_num'] - train['words_num'].min())/(train['words_num'].max()-train['words_num'].min())\n",
    "train['words_len_med_norm'] = (train['words_len_med'] - train['words_len_med'].min())/(train['words_len_med'].max()-train['words_len_med'].min())\n",
    "\n",
    "#-------------------------------------------------------------------------------#\n",
    "#Printing first rows\n",
    "train.head()\n"
   ]
  },
  {
   "cell_type": "code",
   "execution_count": 3,
   "metadata": {},
   "outputs": [],
   "source": [
    "#Definition of variable X\n",
    "X = np.array(list(zip(train.words_len_med_norm, train.lenght_norm)))\n"
   ]
  },
  {
   "cell_type": "code",
   "execution_count": 4,
   "metadata": {},
   "outputs": [
    {
     "name": "stdout",
     "output_type": "stream",
     "text": [
      "Silhouette Coefficient: 0.214\n"
     ]
    },
    {
     "data": {
      "image/png": "[encoded data removed]",
      "text/plain": [
       "<Figure size 432x288 with 1 Axes>"
      ]
     },
     "metadata": {
      "needs_background": "light"
     },
     "output_type": "display_data"
    }
   ],
   "source": [
    "#Fitting X using affinity Propagation Clustering\n",
    "afprop = AffinityPropagation(max_iter=1000)\n",
    "afprop.fit(X)\n",
    "labels = afprop.labels_\n",
    "cluster_centers_indices = afprop.cluster_centers_indices_\n",
    "n_clusters_ = len(cluster_centers_indices)\n",
    "# Predict the cluster for all the samples\n",
    "P = afprop.predict(X)\n",
    "\n",
    "# Generate scatter plot for training data\n",
    "print(\"Silhouette Coefficient: %0.3f\"\n",
    "      % metrics.silhouette_score(X, labels, metric='sqeuclidean'))\n",
    "\n",
    "# #############################################################################\n",
    "# Plot result\n",
    "import matplotlib.pyplot as plt\n",
    "from itertools import cycle\n",
    "\n",
    "plt.figure(figsize=(10, 10))\n",
    "plt.close('all')\n",
    "plt.figure(1)\n",
    "plt.clf()\n",
    "\n",
    "colors = cycle('bgrcmykbgrcmykbgrcmykbgrcmyk')\n",
    "for k, col in zip(range(n_clusters_), colors):\n",
    "    class_members = labels == k\n",
    "    cluster_center = X[cluster_centers_indices[k]]\n",
    "    plt.plot(X[class_members, 0], X[class_members, 1], col + '.')\n",
    "    plt.plot(cluster_center[0], cluster_center[1], 'o', markerfacecolor=col,\n",
    "             markeredgecolor='k', markersize=14)\n",
    "    for x in X[class_members]:\n",
    "        plt.plot([cluster_center[0], x[0]], [cluster_center[1], x[1]], col)\n",
    "      \n"
   ]
  }
 ],
 "metadata": {
  "kernelspec": {
   "display_name": "Python 3",
   "language": "python",
   "name": "python3"
  },
  "language_info": {
   "codemirror_mode": {
    "name": "ipython",
    "version": 3
   },
   "file_extension": ".py",
   "mimetype": "text/x-python",
   "name": "python",
   "nbconvert_exporter": "python",
   "pygments_lexer": "ipython3",
   "version": "3.7.3"
  }
 },
 "nbformat": 4,
 "nbformat_minor": 2
}
