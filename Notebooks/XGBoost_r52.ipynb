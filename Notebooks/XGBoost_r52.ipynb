{
 "cells": [
  {
   "cell_type": "code",
   "execution_count": null,
   "metadata": {},
   "outputs": [],
   "source": [
    "#Importing Packages\n",
    "import sys\n",
    "sys.path.append(\"..\")\n",
    "import pandas as pd\n",
    "import xgboost as xgb\n",
    "from sklearn.metrics import mean_squared_error, accuracy_score\n",
    "import pandas as pd\n",
    "import numpy as np\n",
    "\n",
    "from glove.glovevectorizer import GloveVectorizer"
   ]
  },
  {
   "cell_type": "code",
   "execution_count": null,
   "metadata": {},
   "outputs": [],
   "source": [
    "#Train & Test\n",
    "train = pd.read_csv('../Data/train/Reuters/r52-train-all-terms.txt', header=None, sep='\\t')\n",
    "test = pd.read_csv('../Data/test/Reuters/r52-test-all-terms.txt', header=None, sep='\\t')\n",
    "#Name the features\n",
    "train.columns = ['label', 'content']\n",
    "test.columns = ['label', 'content']"
   ]
  },
  {
   "cell_type": "code",
   "execution_count": null,
   "metadata": {},
   "outputs": [],
   "source": [
    "xg_reg=xgb.XGBRegressor(objective='reg:linear',colsample_bytree=0.3, learning_rate=0.1,max_depth=5, alpha=10, n_estimators=10)"
   ]
  },
  {
   "cell_type": "code",
   "execution_count": null,
   "metadata": {},
   "outputs": [],
   "source": [
    "trainLabelLst = list(dict.fromkeys(train.label))\n",
    "#trainLabelLst"
   ]
  },
  {
   "cell_type": "code",
   "execution_count": null,
   "metadata": {},
   "outputs": [],
   "source": [
    "def get_label(label_str_lst, label_lst):\n",
    "    return_lst = []\n",
    "    for s1 in label_str_lst:\n",
    "        for i, label in enumerate(label_lst):\n",
    "            if s1 == label:\n",
    "                return_lst.append(i)\n",
    "    return return_lst"
   ]
  },
  {
   "cell_type": "code",
   "execution_count": null,
   "metadata": {},
   "outputs": [],
   "source": [
    "vectorizer = GloveVectorizer()\n",
    "Xtrain = vectorizer.fit_transform(train.content) # get wordvectors\n",
    "\n",
    "# get label index\n",
    "train['label_idx'] = get_label(train['label'],trainLabelLst)\n",
    "Ytrain = train.label_idx\n",
    "\n",
    "data_dmmatrix= xgb.DMatrix(data=Xtrain,label=Ytrain)"
   ]
  },
  {
   "cell_type": "code",
   "execution_count": null,
   "metadata": {},
   "outputs": [],
   "source": [
    "param = {\n",
    "    'max_depth': 10,\n",
    "    'eta': 0.3,\n",
    "    'objective': 'multi:softmax',\n",
    "    'num_class': 52} \n",
    "epochs = 1000\n",
    "\n",
    "model = xgb.train(param, data_dmmatrix, epochs)"
   ]
  },
  {
   "cell_type": "code",
   "execution_count": null,
   "metadata": {},
   "outputs": [],
   "source": [
    "Xtest = vectorizer.transform(test.content)\n",
    "test['label_idx'] = get_label(test['label'],trainLabelLst)\n",
    "Ytest = test.label_idx\n",
    "xgb_test = xgb.DMatrix(Xtest, label=Ytest)\n",
    "predictions = model.predict(xgb_test)\n",
    "accuracy_score(Ytest, predictions)"
   ]
  }
 ],
 "metadata": {
  "kernelspec": {
   "display_name": "Python 3",
   "language": "python",
   "name": "python3"
  },
  "language_info": {
   "codemirror_mode": {
    "name": "ipython",
    "version": 3
   },
   "file_extension": ".py",
   "mimetype": "text/x-python",
   "name": "python",
   "nbconvert_exporter": "python",
   "pygments_lexer": "ipython3",
   "version": "3.7.4"
  }
 },
 "nbformat": 4,
 "nbformat_minor": 2
}
