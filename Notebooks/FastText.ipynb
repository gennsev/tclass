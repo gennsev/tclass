{
 "cells": [
  {
   "cell_type": "markdown",
   "metadata": {},
   "source": [
    "## Data Engineering"
   ]
  },
  {
   "cell_type": "code",
   "execution_count": 1,
   "metadata": {},
   "outputs": [],
   "source": [
    "#Importing Packages\n",
    "import sys\n",
    "sys.path.append(\"..\")\n",
    "import pandas as pd\n",
    "from FasttextClassifier.FasttextClassifier import FasttextClassifier\n",
    "from sklearn.model_selection import train_test_split\n",
    "import random\n",
    "import csv\n",
    "from pathlib import Path\n"
   ]
  },
  {
   "cell_type": "markdown",
   "metadata": {},
   "source": [
    "### Creating FastText training file from Reuters files"
   ]
  },
  {
   "cell_type": "code",
   "execution_count": 2,
   "metadata": {},
   "outputs": [
    {
     "data": {
      "text/html": [
       "<div>\n",
       "<style scoped>\n",
       "    .dataframe tbody tr th:only-of-type {\n",
       "        vertical-align: middle;\n",
       "    }\n",
       "\n",
       "    .dataframe tbody tr th {\n",
       "        vertical-align: top;\n",
       "    }\n",
       "\n",
       "    .dataframe thead th {\n",
       "        text-align: right;\n",
       "    }\n",
       "</style>\n",
       "<table border=\"1\" class=\"dataframe\">\n",
       "  <thead>\n",
       "    <tr style=\"text-align: right;\">\n",
       "      <th></th>\n",
       "      <th>label</th>\n",
       "      <th>content</th>\n",
       "    </tr>\n",
       "  </thead>\n",
       "  <tbody>\n",
       "    <tr>\n",
       "      <td>0</td>\n",
       "      <td>trade</td>\n",
       "      <td>asian exporters fear damage from u s japan rif...</td>\n",
       "    </tr>\n",
       "    <tr>\n",
       "      <td>1</td>\n",
       "      <td>grain</td>\n",
       "      <td>china daily says vermin eat pct grain stocks a...</td>\n",
       "    </tr>\n",
       "    <tr>\n",
       "      <td>2</td>\n",
       "      <td>ship</td>\n",
       "      <td>australian foreign ship ban ends but nsw ports...</td>\n",
       "    </tr>\n",
       "    <tr>\n",
       "      <td>3</td>\n",
       "      <td>acq</td>\n",
       "      <td>sumitomo bank aims at quick recovery from merg...</td>\n",
       "    </tr>\n",
       "    <tr>\n",
       "      <td>4</td>\n",
       "      <td>earn</td>\n",
       "      <td>amatil proposes two for five bonus share issue...</td>\n",
       "    </tr>\n",
       "  </tbody>\n",
       "</table>\n",
       "</div>"
      ],
      "text/plain": [
       "   label                                            content\n",
       "0  trade  asian exporters fear damage from u s japan rif...\n",
       "1  grain  china daily says vermin eat pct grain stocks a...\n",
       "2   ship  australian foreign ship ban ends but nsw ports...\n",
       "3    acq  sumitomo bank aims at quick recovery from merg...\n",
       "4   earn  amatil proposes two for five bonus share issue..."
      ]
     },
     "execution_count": 2,
     "metadata": {},
     "output_type": "execute_result"
    }
   ],
   "source": [
    "train = pd.read_csv('../Data/train/Reuters/r8-train-all-terms.txt', header=None, sep='\\t')\n",
    "train.columns = ['label', 'content']\n",
    "test = pd.read_csv('../Data/test/Reuters/r8-test-all-terms.txt', header=None, sep='\\t')\n",
    "test.columns = ['label', 'content']\n",
    "test.head()"
   ]
  },
  {
   "cell_type": "code",
   "execution_count": 3,
   "metadata": {},
   "outputs": [
    {
     "data": {
      "text/html": [
       "<div>\n",
       "<style scoped>\n",
       "    .dataframe tbody tr th:only-of-type {\n",
       "        vertical-align: middle;\n",
       "    }\n",
       "\n",
       "    .dataframe tbody tr th {\n",
       "        vertical-align: top;\n",
       "    }\n",
       "\n",
       "    .dataframe thead th {\n",
       "        text-align: right;\n",
       "    }\n",
       "</style>\n",
       "<table border=\"1\" class=\"dataframe\">\n",
       "  <thead>\n",
       "    <tr style=\"text-align: right;\">\n",
       "      <th></th>\n",
       "      <th>label</th>\n",
       "      <th>content</th>\n",
       "    </tr>\n",
       "  </thead>\n",
       "  <tbody>\n",
       "    <tr>\n",
       "      <td>0</td>\n",
       "      <td>__label__earn</td>\n",
       "      <td>champion products ch approves stock split cham...</td>\n",
       "    </tr>\n",
       "    <tr>\n",
       "      <td>1</td>\n",
       "      <td>__label__acq</td>\n",
       "      <td>computer terminal systems cpml completes sale ...</td>\n",
       "    </tr>\n",
       "    <tr>\n",
       "      <td>2</td>\n",
       "      <td>__label__earn</td>\n",
       "      <td>cobanco inc cbco year net shr cts vs dlrs net ...</td>\n",
       "    </tr>\n",
       "    <tr>\n",
       "      <td>3</td>\n",
       "      <td>__label__earn</td>\n",
       "      <td>am international inc am nd qtr jan oper shr lo...</td>\n",
       "    </tr>\n",
       "    <tr>\n",
       "      <td>4</td>\n",
       "      <td>__label__earn</td>\n",
       "      <td>brown forman inc bfd th qtr net shr one dlr vs...</td>\n",
       "    </tr>\n",
       "    <tr>\n",
       "      <td>...</td>\n",
       "      <td>...</td>\n",
       "      <td>...</td>\n",
       "    </tr>\n",
       "    <tr>\n",
       "      <td>5480</td>\n",
       "      <td>__label__earn</td>\n",
       "      <td>kelly oil and gas partners kly year dec shr ct...</td>\n",
       "    </tr>\n",
       "    <tr>\n",
       "      <td>5481</td>\n",
       "      <td>__label__money-fx</td>\n",
       "      <td>japan seeks to strengthen paris currency accor...</td>\n",
       "    </tr>\n",
       "    <tr>\n",
       "      <td>5482</td>\n",
       "      <td>__label__earn</td>\n",
       "      <td>tcw convertible securities cvt sets dividend t...</td>\n",
       "    </tr>\n",
       "    <tr>\n",
       "      <td>5483</td>\n",
       "      <td>__label__money-fx</td>\n",
       "      <td>south korean won fixed at month high the bank ...</td>\n",
       "    </tr>\n",
       "    <tr>\n",
       "      <td>5484</td>\n",
       "      <td>__label__ship</td>\n",
       "      <td>australian unions launch new south wales strik...</td>\n",
       "    </tr>\n",
       "  </tbody>\n",
       "</table>\n",
       "<p>5485 rows × 2 columns</p>\n",
       "</div>"
      ],
      "text/plain": [
       "                  label                                            content\n",
       "0         __label__earn  champion products ch approves stock split cham...\n",
       "1          __label__acq  computer terminal systems cpml completes sale ...\n",
       "2         __label__earn  cobanco inc cbco year net shr cts vs dlrs net ...\n",
       "3         __label__earn  am international inc am nd qtr jan oper shr lo...\n",
       "4         __label__earn  brown forman inc bfd th qtr net shr one dlr vs...\n",
       "...                 ...                                                ...\n",
       "5480      __label__earn  kelly oil and gas partners kly year dec shr ct...\n",
       "5481  __label__money-fx  japan seeks to strengthen paris currency accor...\n",
       "5482      __label__earn  tcw convertible securities cvt sets dividend t...\n",
       "5483  __label__money-fx  south korean won fixed at month high the bank ...\n",
       "5484      __label__ship  australian unions launch new south wales strik...\n",
       "\n",
       "[5485 rows x 2 columns]"
      ]
     },
     "execution_count": 3,
     "metadata": {},
     "output_type": "execute_result"
    }
   ],
   "source": [
    "test['label'] = '__label__'+test['label']\n",
    "train['label'] = '__label__'+train['label']\n",
    "train"
   ]
  },
  {
   "cell_type": "code",
   "execution_count": 4,
   "metadata": {},
   "outputs": [],
   "source": [
    "#saving train file\n",
    "train.to_csv('trainFT.txt', sep='\\t', header=None, index=False)\n",
    "test.to_csv('testFT.txt', sep='\\t', header=None, index=False)"
   ]
  },
  {
   "cell_type": "markdown",
   "metadata": {},
   "source": [
    "### Creating the model and testing"
   ]
  },
  {
   "cell_type": "code",
   "execution_count": 5,
   "metadata": {},
   "outputs": [],
   "source": [
    "ft_model = FasttextClassifier(train_data='trainFT.txt')"
   ]
  },
  {
   "cell_type": "code",
   "execution_count": 6,
   "metadata": {},
   "outputs": [
    {
     "data": {
      "text/plain": [
       "(2189, 0.970306075833714, 0.970306075833714)"
      ]
     },
     "execution_count": 6,
     "metadata": {},
     "output_type": "execute_result"
    }
   ],
   "source": [
    "ft_model.fasttext_test('testFT.txt')"
   ]
  },
  {
   "cell_type": "code",
   "execution_count": 8,
   "metadata": {},
   "outputs": [
    {
     "data": {
      "text/plain": [
       "(('__label__acq',), array([0.98414904]))"
      ]
     },
     "execution_count": 8,
     "metadata": {},
     "output_type": "execute_result"
    }
   ],
   "source": [
    "ft_model.label('I like apples.')"
   ]
  }
 ],
 "metadata": {
  "kernelspec": {
   "display_name": "Python 3",
   "language": "python",
   "name": "python3"
  },
  "language_info": {
   "codemirror_mode": {
    "name": "ipython",
    "version": 3
   },
   "file_extension": ".py",
   "mimetype": "text/x-python",
   "name": "python",
   "nbconvert_exporter": "python",
   "pygments_lexer": "ipython3",
   "version": "3.7.4"
  }
 },
 "nbformat": 4,
 "nbformat_minor": 4
}
