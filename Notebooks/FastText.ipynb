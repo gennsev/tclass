{
 "cells": [
  {
   "cell_type": "markdown",
   "metadata": {},
   "source": [
    "## Data Engineering"
   ]
  },
  {
   "cell_type": "code",
   "execution_count": null,
   "metadata": {},
   "outputs": [],
   "source": [
    "#Importing Packages\n",
    "import sys\n",
    "import os\n",
    "sys.path.append(\"..\")\n",
    "import pandas as pd\n",
    "from FasttextClassifier.FasttextClassifier import FasttextClassifier\n",
    "from sklearn.model_selection import train_test_split\n",
    "import random\n",
    "import csv\n",
    "from pathlib import Path\n"
   ]
  },
  {
   "cell_type": "markdown",
   "metadata": {},
   "source": [
    "## Creating FastText training file from Reuters files"
   ]
  },
  {
   "cell_type": "code",
   "execution_count": null,
   "metadata": {},
   "outputs": [],
   "source": [
    "train = pd.read_csv('../Data/train/Reuters/r8-train-all-terms.txt', header=None, sep='\\t')\n",
    "train.columns = ['label', 'content']\n",
    "test = pd.read_csv('../Data/test/Reuters/r8-test-all-terms.txt', header=None, sep='\\t')\n",
    "test.columns = ['label', 'content']\n",
    "test.head()"
   ]
  },
  {
   "cell_type": "code",
   "execution_count": null,
   "metadata": {},
   "outputs": [],
   "source": [
    "test['label'] = '__label__'+test['label']\n",
    "train['label'] = '__label__'+train['label']\n",
    "train"
   ]
  },
  {
   "cell_type": "code",
   "execution_count": null,
   "metadata": {},
   "outputs": [],
   "source": [
    "#saving train file\n",
    "train.to_csv('trainFT.txt', sep='\\t', header=None, index=False)\n",
    "test.to_csv('testFT.txt', sep='\\t', header=None, index=False)"
   ]
  },
  {
   "cell_type": "markdown",
   "metadata": {},
   "source": [
    "### Creating the model and testing"
   ]
  },
  {
   "cell_type": "code",
   "execution_count": null,
   "metadata": {},
   "outputs": [],
   "source": [
    "ft_model = FasttextClassifier(train_data='trainFT.txt')"
   ]
  },
  {
   "cell_type": "code",
   "execution_count": null,
   "metadata": {},
   "outputs": [],
   "source": [
    "ft_model.fasttext_test('testFT.txt')"
   ]
  },
  {
   "cell_type": "code",
   "execution_count": null,
   "metadata": {},
   "outputs": [],
   "source": [
    "ft_model.label('I like apples.')"
   ]
  },
  {
   "cell_type": "markdown",
   "metadata": {},
   "source": [
    "## Creating FastText model from raw files"
   ]
  },
  {
   "cell_type": "markdown",
   "metadata": {},
   "source": [
    "In this example, we will take a dataset of raw files, divided into labels defined by their path.\n",
    "\n",
    "The dataset shall follow the format:  \n",
    "<pre>\n",
    ".  \n",
    "└── Dataset  \n",
    "    └── label1  \n",
    "    |   └── label_text.txt  \n",
    "    ├── label2  \n",
    "    |   ├── firstpost.txt  \n",
    "    |   ├── happy.txt     \n",
    "    |   └── secondpost.txt  \n",
    "    └── label3  \n",
    "        ├── text0.txt      \n",
    "        └── second.txt    \n",
    "</pre>\n",
    "  "
   ]
  },
  {
   "cell_type": "code",
   "execution_count": null,
   "metadata": {},
   "outputs": [],
   "source": [
    "\n",
    "RAW_DATA_PATH = '../Data/texts'\n",
    "GENERATED_DATA_PATH = 'generated_files'\n",
    "MERGED_DATA_PATH ='merged'\n",
    "SHUFFLED_MERGED_DATA_PATH = 'shuffled_merged/'\n",
    "DATA_FINAL_PATH = 'data_final/'\n"
   ]
  },
  {
   "cell_type": "code",
   "execution_count": null,
   "metadata": {},
   "outputs": [],
   "source": [
    "def read_all_texts(path_to_folders, outfile_path):\n",
    "    init_model=FasttextClassifier()\n",
    "    for folder in os.listdir(f'{path_to_folders}'):\n",
    "        init_model.gen_training(path= f'{path_to_folders}/{folder}', label= f'{folder}', outfile_path=f'{outfile_path}/{folder}')"
   ]
  },
  {
   "cell_type": "code",
   "execution_count": null,
   "metadata": {
    "tags": []
   },
   "outputs": [],
   "source": [
    "if not os.path.exists(GENERATED_DATA_PATH):\n",
    "    os.mkdir(GENERATED_DATA_PATH)\n",
    "read_all_texts(RAW_DATA_PATH, GENERATED_DATA_PATH)"
   ]
  },
  {
   "cell_type": "markdown",
   "metadata": {},
   "source": [
    "### Merging files"
   ]
  },
  {
   "cell_type": "code",
   "execution_count": null,
   "metadata": {},
   "outputs": [],
   "source": [
    "def merge_files(path_to_folder, outfile_path):\n",
    "    for file in os.listdir(f'{path_to_folder}'):\n",
    "            with open(f'{path_to_folder}/{file}', encoding='utf-8') as fp: \n",
    "                data = fp.read() \n",
    "                data += '\\n'\n",
    "                file_lst=[]\n",
    "                for filename in os.listdir(path_to_folder):\n",
    "                    with open(f'{path_to_folder}/{filename}', encoding='utf-8') as f:\n",
    "                        file_content = pd.read_csv(f, sep='\\t', header=None)\n",
    "                        file_lst.append(file_content)\n",
    "                        \n",
    "                merged = pd.concat(file_lst)\n",
    "                merged.to_csv(f'{outfile_path}/' + 'merged', header=False, index=False, sep='\\t')"
   ]
  },
  {
   "cell_type": "code",
   "execution_count": null,
   "metadata": {},
   "outputs": [],
   "source": [
    "if not os.path.exists(MERGED_DATA_PATH):\n",
    "    os.mkdir(MERGED_DATA_PATH)\n",
    "    merge_files(GENERATED_DATA_PATH, MERGED_DATA_PATH)"
   ]
  },
  {
   "cell_type": "markdown",
   "metadata": {},
   "source": [
    "### Shuffle the data"
   ]
  },
  {
   "cell_type": "code",
   "execution_count": null,
   "metadata": {},
   "outputs": [],
   "source": [
    "def shuffler(path_to_folder, outfile_path):\n",
    "    for file in os.listdir(f'{path_to_folder}'):\n",
    "            with open(f'{path_to_folder}/{file}', encoding='utf-8') as fp:\n",
    "                df=pd.read_csv(fp, sep='\\t', header=None)\n",
    "                df = df.sample(frac=1).reset_index(drop=True)\n",
    "    return df\n",
    "    df.to_csv(f'{outfile_path}/' + 'shuffled_merged' + '.txt', header=False, index=False, sep='\\t')"
   ]
  },
  {
   "cell_type": "code",
   "execution_count": null,
   "metadata": {},
   "outputs": [],
   "source": [
    "shuffled_merged=shuffler(MERGED_DATA_PATH, SHUFFLED_MERGED_DATA_PATH)"
   ]
  },
  {
   "cell_type": "markdown",
   "metadata": {},
   "source": [
    "### Split train and test data"
   ]
  },
  {
   "cell_type": "code",
   "execution_count": null,
   "metadata": {},
   "outputs": [],
   "source": [
    "X_train, X_test , y_train, y_test = train_test_split(shuffled_merged[1], shuffled_merged[0], test_size=0.33, random_state=42)"
   ]
  },
  {
   "cell_type": "code",
   "execution_count": null,
   "metadata": {},
   "outputs": [],
   "source": [
    "train=pd.DataFrame(X_train)\n",
    "train.insert(0, '', y_train, True)\n",
    "#saving train file\n",
    "if not os.path.exists(DATA_FINAL_PATH):\n",
    "    os.mkdir(DATA_FINAL_PATH)\n",
    "train.to_csv(DATA_FINAL_PATH + 'train_data.txt', sep='\\t', header=None, index=False)"
   ]
  },
  {
   "cell_type": "code",
   "execution_count": null,
   "metadata": {},
   "outputs": [],
   "source": [
    "test=pd.DataFrame(X_test)\n",
    "test.insert(0, '', y_test, True)\n",
    "#saving test file\n",
    "test.to_csv(DATA_FINAL_PATH + 'test_data.txt', sep='\\t', header=None, index=False)"
   ]
  },
  {
   "cell_type": "markdown",
   "metadata": {},
   "source": [
    "### Load files and create/test model"
   ]
  },
  {
   "cell_type": "code",
   "execution_count": null,
   "metadata": {},
   "outputs": [],
   "source": [
    "with open(DATA_FINAL_PATH + 'train_data.txt', encoding='utf-8') as train_txt:\n",
    "    final_train_data=train_txt.read()\n",
    "\n",
    "with open(DATA_FINAL_PATH + 'test_data.txt', encoding='utf-8') as test_txt:\n",
    "    final_test_data=test_txt.read()\n",
    "\n",
    "    \n",
    "ft_model=FasttextClassifier(train_data=str(DATA_FINAL_PATH + 'train_data.txt'))\n",
    "ft_model.fasttext_test(DATA_FINAL_PATH + 'test_data.txt')"
   ]
  }
 ],
 "metadata": {
  "kernelspec": {
   "display_name": "Python 3",
   "language": "python",
   "name": "python3"
  },
  "language_info": {
   "codemirror_mode": {
    "name": "ipython",
    "version": 3
   },
   "file_extension": ".py",
   "mimetype": "text/x-python",
   "name": "python",
   "nbconvert_exporter": "python",
   "pygments_lexer": "ipython3",
   "version": "3.7.4"
  }
 },
 "nbformat": 4,
 "nbformat_minor": 4
}