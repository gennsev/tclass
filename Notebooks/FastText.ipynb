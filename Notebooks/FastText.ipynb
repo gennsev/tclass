{
 "cells": [
  {
   "cell_type": "markdown",
   "metadata": {},
   "source": [
    "## Data Engineering"
   ]
  },
  {
   "cell_type": "code",
   "execution_count": 1,
   "metadata": {},
   "outputs": [],
   "source": [
    "#Importing Packages\n",
    "import sys\n",
    "import os\n",
    "sys.path.append(\"..\")\n",
    "import pandas as pd\n",
    "from FasttextClassifier.FasttextClassifier import FasttextClassifier\n",
    "from sklearn.model_selection import train_test_split\n",
    "import random\n",
    "import csv\n",
    "from pathlib import Path\n"
   ]
  },
  {
   "cell_type": "markdown",
   "metadata": {},
   "source": [
    "## Creating FastText training file from Reuters files"
   ]
  },
  {
   "cell_type": "code",
   "execution_count": 2,
   "metadata": {},
   "outputs": [
    {
     "output_type": "execute_result",
     "data": {
      "text/plain": "   label                                            content\n0  trade  asian exporters fear damage from u s japan rif...\n1  grain  china daily says vermin eat pct grain stocks a...\n2   ship  australian foreign ship ban ends but nsw ports...\n3    acq  sumitomo bank aims at quick recovery from merg...\n4   earn  amatil proposes two for five bonus share issue...",
      "text/html": "<div>\n<style scoped>\n    .dataframe tbody tr th:only-of-type {\n        vertical-align: middle;\n    }\n\n    .dataframe tbody tr th {\n        vertical-align: top;\n    }\n\n    .dataframe thead th {\n        text-align: right;\n    }\n</style>\n<table border=\"1\" class=\"dataframe\">\n  <thead>\n    <tr style=\"text-align: right;\">\n      <th></th>\n      <th>label</th>\n      <th>content</th>\n    </tr>\n  </thead>\n  <tbody>\n    <tr>\n      <td>0</td>\n      <td>trade</td>\n      <td>asian exporters fear damage from u s japan rif...</td>\n    </tr>\n    <tr>\n      <td>1</td>\n      <td>grain</td>\n      <td>china daily says vermin eat pct grain stocks a...</td>\n    </tr>\n    <tr>\n      <td>2</td>\n      <td>ship</td>\n      <td>australian foreign ship ban ends but nsw ports...</td>\n    </tr>\n    <tr>\n      <td>3</td>\n      <td>acq</td>\n      <td>sumitomo bank aims at quick recovery from merg...</td>\n    </tr>\n    <tr>\n      <td>4</td>\n      <td>earn</td>\n      <td>amatil proposes two for five bonus share issue...</td>\n    </tr>\n  </tbody>\n</table>\n</div>"
     },
     "metadata": {},
     "execution_count": 2
    }
   ],
   "source": [
    "train = pd.read_csv('../Data/train/Reuters/r8-train-all-terms.txt', header=None, sep='\\t')\n",
    "train.columns = ['label', 'content']\n",
    "test = pd.read_csv('../Data/test/Reuters/r8-test-all-terms.txt', header=None, sep='\\t')\n",
    "test.columns = ['label', 'content']\n",
    "test.head()"
   ]
  },
  {
   "cell_type": "code",
   "execution_count": 3,
   "metadata": {},
   "outputs": [
    {
     "output_type": "execute_result",
     "data": {
      "text/plain": "                  label                                            content\n0         __label__earn  champion products ch approves stock split cham...\n1          __label__acq  computer terminal systems cpml completes sale ...\n2         __label__earn  cobanco inc cbco year net shr cts vs dlrs net ...\n3         __label__earn  am international inc am nd qtr jan oper shr lo...\n4         __label__earn  brown forman inc bfd th qtr net shr one dlr vs...\n...                 ...                                                ...\n5480      __label__earn  kelly oil and gas partners kly year dec shr ct...\n5481  __label__money-fx  japan seeks to strengthen paris currency accor...\n5482      __label__earn  tcw convertible securities cvt sets dividend t...\n5483  __label__money-fx  south korean won fixed at month high the bank ...\n5484      __label__ship  australian unions launch new south wales strik...\n\n[5485 rows x 2 columns]",
      "text/html": "<div>\n<style scoped>\n    .dataframe tbody tr th:only-of-type {\n        vertical-align: middle;\n    }\n\n    .dataframe tbody tr th {\n        vertical-align: top;\n    }\n\n    .dataframe thead th {\n        text-align: right;\n    }\n</style>\n<table border=\"1\" class=\"dataframe\">\n  <thead>\n    <tr style=\"text-align: right;\">\n      <th></th>\n      <th>label</th>\n      <th>content</th>\n    </tr>\n  </thead>\n  <tbody>\n    <tr>\n      <td>0</td>\n      <td>__label__earn</td>\n      <td>champion products ch approves stock split cham...</td>\n    </tr>\n    <tr>\n      <td>1</td>\n      <td>__label__acq</td>\n      <td>computer terminal systems cpml completes sale ...</td>\n    </tr>\n    <tr>\n      <td>2</td>\n      <td>__label__earn</td>\n      <td>cobanco inc cbco year net shr cts vs dlrs net ...</td>\n    </tr>\n    <tr>\n      <td>3</td>\n      <td>__label__earn</td>\n      <td>am international inc am nd qtr jan oper shr lo...</td>\n    </tr>\n    <tr>\n      <td>4</td>\n      <td>__label__earn</td>\n      <td>brown forman inc bfd th qtr net shr one dlr vs...</td>\n    </tr>\n    <tr>\n      <td>...</td>\n      <td>...</td>\n      <td>...</td>\n    </tr>\n    <tr>\n      <td>5480</td>\n      <td>__label__earn</td>\n      <td>kelly oil and gas partners kly year dec shr ct...</td>\n    </tr>\n    <tr>\n      <td>5481</td>\n      <td>__label__money-fx</td>\n      <td>japan seeks to strengthen paris currency accor...</td>\n    </tr>\n    <tr>\n      <td>5482</td>\n      <td>__label__earn</td>\n      <td>tcw convertible securities cvt sets dividend t...</td>\n    </tr>\n    <tr>\n      <td>5483</td>\n      <td>__label__money-fx</td>\n      <td>south korean won fixed at month high the bank ...</td>\n    </tr>\n    <tr>\n      <td>5484</td>\n      <td>__label__ship</td>\n      <td>australian unions launch new south wales strik...</td>\n    </tr>\n  </tbody>\n</table>\n<p>5485 rows × 2 columns</p>\n</div>"
     },
     "metadata": {},
     "execution_count": 3
    }
   ],
   "source": [
    "test['label'] = '__label__'+test['label']\n",
    "train['label'] = '__label__'+train['label']\n",
    "train"
   ]
  },
  {
   "cell_type": "code",
   "execution_count": 4,
   "metadata": {},
   "outputs": [],
   "source": [
    "#saving train file\n",
    "train.to_csv('trainFT.txt', sep='\\t', header=None, index=False)\n",
    "test.to_csv('testFT.txt', sep='\\t', header=None, index=False)"
   ]
  },
  {
   "cell_type": "markdown",
   "metadata": {},
   "source": [
    "### Creating the model and testing"
   ]
  },
  {
   "cell_type": "code",
   "execution_count": 5,
   "metadata": {},
   "outputs": [],
   "source": [
    "ft_model = FasttextClassifier(train_data='trainFT.txt')"
   ]
  },
  {
   "cell_type": "code",
   "execution_count": 6,
   "metadata": {},
   "outputs": [
    {
     "output_type": "execute_result",
     "data": {
      "text/plain": "(2189, 0.9693924166285975, 0.9693924166285975)"
     },
     "metadata": {},
     "execution_count": 6
    }
   ],
   "source": [
    "ft_model.fasttext_test('testFT.txt')"
   ]
  },
  {
   "cell_type": "code",
   "execution_count": 7,
   "metadata": {},
   "outputs": [
    {
     "output_type": "execute_result",
     "data": {
      "text/plain": "(('__label__acq',), array([0.99466139]))"
     },
     "metadata": {},
     "execution_count": 7
    }
   ],
   "source": [
    "ft_model.label('I like apples.')"
   ]
  },
  {
   "cell_type": "markdown",
   "metadata": {},
   "source": [
    "## Creating FastText model from raw files"
   ]
  },
  {
   "cell_type": "markdown",
   "metadata": {},
   "source": [
    "In this example, we will take a dataset of raw files, divided into labels defined by their path.\n",
    "\n",
    "The dataset shall follow the format:  \n",
    "<pre>\n",
    ".  \n",
    "└── Dataset  \n",
    "    └── label1  \n",
    "    |   └── label_text.txt  \n",
    "    ├── label2  \n",
    "    |   ├── firstpost.txt  \n",
    "    |   ├── happy.txt     \n",
    "    |   └── secondpost.txt  \n",
    "    └── label3  \n",
    "        ├── text0.txt      \n",
    "        └── second.txt    \n",
    "</pre>\n",
    "  "
   ]
  },
  {
   "cell_type": "code",
   "execution_count": 9,
   "metadata": {},
   "outputs": [],
   "source": [
    "\n",
    "RAW_DATA_PATH = 'raw_data/'\n",
    "GENERATED_DATA_PATH = 'generated_files/'\n",
    "MERGED_DATA_PATH ='merged/'\n",
    "SHUFFLED_MERGED_DATA_PATH = 'shuffled_merged/'\n",
    "DATA_FINAL_PATH = 'data_final/'\n"
   ]
  },
  {
   "cell_type": "code",
   "execution_count": 10,
   "metadata": {},
   "outputs": [],
   "source": [
    "def read_all_texts(path_to_folders, outfile_path):\n",
    "    init_model=FasttextClassifier()\n",
    "    for folder in os.listdir(f'{path_to_folders}'):\n",
    "        for filename in os.listdir(f'{path_to_folders}/{folder}'):\n",
    "            with open(f'{path_to_folders}/{folder}/{filename}', encoding='utf-8') as f:\n",
    "                init_model.gen_training(path= f'{path_to_folders}/{folder}', label= f'{folder}', outfile_path=f'{outfile_path}/{folder}')"
   ]
  },
  {
   "cell_type": "markdown",
   "metadata": {},
   "source": [
    "### Merging files"
   ]
  },
  {
   "cell_type": "code",
   "execution_count": null,
   "metadata": {},
   "outputs": [],
   "source": [
    "def merge_files(path_to_folder, outfile_path):\n",
    "    for file in os.listdir(f'{path_to_folder}'):\n",
    "            with open(f'{path_to_folder}/{file}', encoding='utf-8') as fp: \n",
    "                data = fp.read() \n",
    "                data += '\\n'\n",
    "                file_lst=[]\n",
    "                for filename in os.listdir(path_to_folder):\n",
    "                    with open(f'{path_to_folder}/{filename}', encoding='utf-8') as f:\n",
    "                        file_content = pd.read_csv(f, sep='\\t', header=None)\n",
    "                        file_lst.append(file_content)\n",
    "                        \n",
    "                merged = pd.concat(file_lst)\n",
    "                merged.to_csv(f'{outfile_path}/' + 'merged', header=False, index=False, sep='\\t')"
   ]
  },
  {
   "cell_type": "code",
   "execution_count": null,
   "metadata": {},
   "outputs": [],
   "source": [
    "merge_files(GENERATED_DATA_PATH, MERGED_DATA_PATH)"
   ]
  },
  {
   "cell_type": "markdown",
   "metadata": {},
   "source": [
    "### Shuffle the data"
   ]
  },
  {
   "cell_type": "code",
   "execution_count": null,
   "metadata": {},
   "outputs": [],
   "source": [
    "def shuffler(path_to_folder, outfile_path):\n",
    "    for file in os.listdir(f'{path_to_folder}'):\n",
    "            with open(f'{path_to_folder}/{file}', encoding='utf-8') as fp:\n",
    "                df=pd.read_csv(fp, sep='\\t', header=None)\n",
    "                df = df.sample(frac=1).reset_index(drop=True)\n",
    "    return df\n",
    "    df.to_csv(f'{outfile_path}/' + 'shuffled_merged' + '.txt', header=False, index=False, sep='\\t')"
   ]
  },
  {
   "cell_type": "code",
   "execution_count": null,
   "metadata": {},
   "outputs": [],
   "source": [
    "shuffled_merged=shuffler(MERGED_DATA_PATH, SHUFFLED_MERGED_DATA_PATH)"
   ]
  },
  {
   "cell_type": "markdown",
   "metadata": {},
   "source": [
    "### Split train and test data"
   ]
  },
  {
   "cell_type": "code",
   "execution_count": null,
   "metadata": {},
   "outputs": [],
   "source": [
    "X_train, X_test , y_train, y_test = train_test_split(shuffled_merged[1], shuffled_merged[0], test_size=0.33, random_state=42)"
   ]
  },
  {
   "cell_type": "code",
   "execution_count": 11,
   "metadata": {},
   "outputs": [
    {
     "output_type": "error",
     "ename": "NameError",
     "evalue": "name 'X_train' is not defined",
     "traceback": [
      "\u001b[0;31m---------------------------------------------------------------------------\u001b[0m",
      "\u001b[0;31mNameError\u001b[0m                                 Traceback (most recent call last)",
      "\u001b[0;32m<ipython-input-11-afd4d378bd69>\u001b[0m in \u001b[0;36m<module>\u001b[0;34m\u001b[0m\n\u001b[0;32m----> 1\u001b[0;31m \u001b[0mtrain\u001b[0m\u001b[0;34m=\u001b[0m\u001b[0mpd\u001b[0m\u001b[0;34m.\u001b[0m\u001b[0mDataFrame\u001b[0m\u001b[0;34m(\u001b[0m\u001b[0mX_train\u001b[0m\u001b[0;34m)\u001b[0m\u001b[0;34m\u001b[0m\u001b[0;34m\u001b[0m\u001b[0m\n\u001b[0m\u001b[1;32m      2\u001b[0m \u001b[0mtrain\u001b[0m\u001b[0;34m.\u001b[0m\u001b[0minsert\u001b[0m\u001b[0;34m(\u001b[0m\u001b[0;36m0\u001b[0m\u001b[0;34m,\u001b[0m \u001b[0;34m''\u001b[0m\u001b[0;34m,\u001b[0m \u001b[0my_train\u001b[0m\u001b[0;34m,\u001b[0m \u001b[0;32mTrue\u001b[0m\u001b[0;34m)\u001b[0m\u001b[0;34m\u001b[0m\u001b[0;34m\u001b[0m\u001b[0m\n\u001b[1;32m      3\u001b[0m \u001b[0;31m#saving train file\u001b[0m\u001b[0;34m\u001b[0m\u001b[0;34m\u001b[0m\u001b[0;34m\u001b[0m\u001b[0m\n\u001b[1;32m      4\u001b[0m \u001b[0mtrain\u001b[0m\u001b[0;34m.\u001b[0m\u001b[0mto_csv\u001b[0m\u001b[0;34m(\u001b[0m\u001b[0mDATA_FINAL_PATH\u001b[0m \u001b[0;34m+\u001b[0m \u001b[0;34m'train_data.txt'\u001b[0m\u001b[0;34m,\u001b[0m \u001b[0msep\u001b[0m\u001b[0;34m=\u001b[0m\u001b[0;34m'\\t'\u001b[0m\u001b[0;34m,\u001b[0m \u001b[0mheader\u001b[0m\u001b[0;34m=\u001b[0m\u001b[0;32mNone\u001b[0m\u001b[0;34m,\u001b[0m \u001b[0mindex\u001b[0m\u001b[0;34m=\u001b[0m\u001b[0;32mFalse\u001b[0m\u001b[0;34m)\u001b[0m\u001b[0;34m\u001b[0m\u001b[0;34m\u001b[0m\u001b[0m\n",
      "\u001b[0;31mNameError\u001b[0m: name 'X_train' is not defined"
     ]
    }
   ],
   "source": [
    "train=pd.DataFrame(X_train)\n",
    "train.insert(0, '', y_train, True)\n",
    "#saving train file\n",
    "train.to_csv(DATA_FINAL_PATH + 'train_data.txt', sep='\\t', header=None, index=False)"
   ]
  },
  {
   "cell_type": "code",
   "execution_count": null,
   "metadata": {},
   "outputs": [],
   "source": [
    "test=pd.DataFrame(X_test)\n",
    "test.insert(0, '', y_test, True)\n",
    "#saving test file\n",
    "test.to_csv(DATA_FINAL_PATH + 'test_data.txt', sep='\\t', header=None, index=False)"
   ]
  },
  {
   "cell_type": "markdown",
   "metadata": {},
   "source": [
    "### Load files and create model"
   ]
  },
  {
   "cell_type": "code",
   "execution_count": null,
   "metadata": {},
   "outputs": [],
   "source": [
    "with open(DATA_FINAL_PATH + 'train_data.txt', encoding='utf-8') as train_txt:\n",
    "    final_train_data=train_txt.read()\n",
    "\n",
    "with open(DATA_FINAL_PATH + 'test_data.txt', encoding='utf-8') as test_txt:\n",
    "    final_test_data=test_txt.read()\n",
    "\n",
    "    \n",
    "ft_model=FasttextClassifier(train_data=str(DATA_FINAL_PATH + 'train_data.txt'))\n",
    "ft_model.fasttext_test(DATA_FINAL_PATH + 'test_data.txt')"
   ]
  }
 ],
 "metadata": {
  "kernelspec": {
   "display_name": "Python 3",
   "language": "python",
   "name": "python3"
  },
  "language_info": {
   "codemirror_mode": {
    "name": "ipython",
    "version": 3
   },
   "file_extension": ".py",
   "mimetype": "text/x-python",
   "name": "python",
   "nbconvert_exporter": "python",
   "pygments_lexer": "ipython3",
   "version": "3.7.4"
  }
 },
 "nbformat": 4,
 "nbformat_minor": 4
}