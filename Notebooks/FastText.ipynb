{
 "cells": [
  {
   "cell_type": "markdown",
   "metadata": {},
   "source": [
    "## Data Engineering"
   ]
  },
  {
   "cell_type": "code",
   "execution_count": 1,
   "metadata": {},
   "outputs": [],
   "source": [
    "#Importing Packages\n",
    "import sys\n",
    "import os\n",
    "sys.path.append(\"..\")\n",
    "import pandas as pd\n",
    "from FasttextClassifier.FasttextClassifier import FasttextClassifier\n",
    "from sklearn.model_selection import train_test_split\n",
    "import random\n",
    "import csv\n",
    "from pathlib import Path\n"
   ]
  },
  {
   "cell_type": "markdown",
   "metadata": {},
   "source": [
    "## Creating FastText training file from Reuters files"
   ]
  },
  {
   "cell_type": "code",
   "execution_count": 4,
   "metadata": {},
   "outputs": [
    {
     "data": {
      "text/html": [
       "<div>\n",
       "<style scoped>\n",
       "    .dataframe tbody tr th:only-of-type {\n",
       "        vertical-align: middle;\n",
       "    }\n",
       "\n",
       "    .dataframe tbody tr th {\n",
       "        vertical-align: top;\n",
       "    }\n",
       "\n",
       "    .dataframe thead th {\n",
       "        text-align: right;\n",
       "    }\n",
       "</style>\n",
       "<table border=\"1\" class=\"dataframe\">\n",
       "  <thead>\n",
       "    <tr style=\"text-align: right;\">\n",
       "      <th></th>\n",
       "      <th>label</th>\n",
       "      <th>content</th>\n",
       "    </tr>\n",
       "  </thead>\n",
       "  <tbody>\n",
       "    <tr>\n",
       "      <th>0</th>\n",
       "      <td>trade</td>\n",
       "      <td>asian exporters fear damage from u s japan rif...</td>\n",
       "    </tr>\n",
       "    <tr>\n",
       "      <th>1</th>\n",
       "      <td>grain</td>\n",
       "      <td>china daily says vermin eat pct grain stocks a...</td>\n",
       "    </tr>\n",
       "    <tr>\n",
       "      <th>2</th>\n",
       "      <td>ship</td>\n",
       "      <td>australian foreign ship ban ends but nsw ports...</td>\n",
       "    </tr>\n",
       "    <tr>\n",
       "      <th>3</th>\n",
       "      <td>gold</td>\n",
       "      <td>western mining to open new gold mine in austra...</td>\n",
       "    </tr>\n",
       "    <tr>\n",
       "      <th>4</th>\n",
       "      <td>acq</td>\n",
       "      <td>sumitomo bank aims at quick recovery from merg...</td>\n",
       "    </tr>\n",
       "  </tbody>\n",
       "</table>\n",
       "</div>"
      ],
      "text/plain": [
       "   label                                            content\n",
       "0  trade  asian exporters fear damage from u s japan rif...\n",
       "1  grain  china daily says vermin eat pct grain stocks a...\n",
       "2   ship  australian foreign ship ban ends but nsw ports...\n",
       "3   gold  western mining to open new gold mine in austra...\n",
       "4    acq  sumitomo bank aims at quick recovery from merg..."
      ]
     },
     "execution_count": 4,
     "metadata": {},
     "output_type": "execute_result"
    }
   ],
   "source": [
    "train = pd.read_csv('C:/Users/franc/OneDrive/Documentos/Projects/r52/tclass/Data/train/reuters_train_52/r52-train-all-terms.txt', header=None, sep='\\t')\n",
    "test = pd.read_csv('C:/Users/franc/OneDrive/Documentos/Projects/r52/tclass/Data/test/reuters_test_52/r52-test-all-terms.txt', header=None, sep='\\t')\n",
    "train.columns = ['label', 'content']\n",
    "test.columns = ['label', 'content']\n",
    "test.head()"
   ]
  },
  {
   "cell_type": "code",
   "execution_count": 5,
   "metadata": {},
   "outputs": [
    {
     "data": {
      "text/html": [
       "<div>\n",
       "<style scoped>\n",
       "    .dataframe tbody tr th:only-of-type {\n",
       "        vertical-align: middle;\n",
       "    }\n",
       "\n",
       "    .dataframe tbody tr th {\n",
       "        vertical-align: top;\n",
       "    }\n",
       "\n",
       "    .dataframe thead th {\n",
       "        text-align: right;\n",
       "    }\n",
       "</style>\n",
       "<table border=\"1\" class=\"dataframe\">\n",
       "  <thead>\n",
       "    <tr style=\"text-align: right;\">\n",
       "      <th></th>\n",
       "      <th>label</th>\n",
       "      <th>content</th>\n",
       "    </tr>\n",
       "  </thead>\n",
       "  <tbody>\n",
       "    <tr>\n",
       "      <th>0</th>\n",
       "      <td>__label__cocoa</td>\n",
       "      <td>bahia cocoa review showers continued throughou...</td>\n",
       "    </tr>\n",
       "    <tr>\n",
       "      <th>1</th>\n",
       "      <td>__label__earn</td>\n",
       "      <td>champion products ch approves stock split cham...</td>\n",
       "    </tr>\n",
       "    <tr>\n",
       "      <th>2</th>\n",
       "      <td>__label__acq</td>\n",
       "      <td>computer terminal systems cpml completes sale ...</td>\n",
       "    </tr>\n",
       "    <tr>\n",
       "      <th>3</th>\n",
       "      <td>__label__earn</td>\n",
       "      <td>cobanco inc cbco year net shr cts vs dlrs net ...</td>\n",
       "    </tr>\n",
       "    <tr>\n",
       "      <th>4</th>\n",
       "      <td>__label__earn</td>\n",
       "      <td>am international inc am nd qtr jan oper shr lo...</td>\n",
       "    </tr>\n",
       "    <tr>\n",
       "      <th>...</th>\n",
       "      <td>...</td>\n",
       "      <td>...</td>\n",
       "    </tr>\n",
       "    <tr>\n",
       "      <th>6527</th>\n",
       "      <td>__label__jobs</td>\n",
       "      <td>n z unemployment rate pct in december quarter ...</td>\n",
       "    </tr>\n",
       "    <tr>\n",
       "      <th>6528</th>\n",
       "      <td>__label__rubber</td>\n",
       "      <td>japan rubber stocks fall in march japan s rubb...</td>\n",
       "    </tr>\n",
       "    <tr>\n",
       "      <th>6529</th>\n",
       "      <td>__label__money-fx</td>\n",
       "      <td>south korean won fixed at month high the bank ...</td>\n",
       "    </tr>\n",
       "    <tr>\n",
       "      <th>6530</th>\n",
       "      <td>__label__copper</td>\n",
       "      <td>nippon mining lowers copper price nippon minin...</td>\n",
       "    </tr>\n",
       "    <tr>\n",
       "      <th>6531</th>\n",
       "      <td>__label__ship</td>\n",
       "      <td>australian unions launch new south wales strik...</td>\n",
       "    </tr>\n",
       "  </tbody>\n",
       "</table>\n",
       "<p>6532 rows × 2 columns</p>\n",
       "</div>"
      ],
      "text/plain": [
       "                  label                                            content\n",
       "0        __label__cocoa  bahia cocoa review showers continued throughou...\n",
       "1         __label__earn  champion products ch approves stock split cham...\n",
       "2          __label__acq  computer terminal systems cpml completes sale ...\n",
       "3         __label__earn  cobanco inc cbco year net shr cts vs dlrs net ...\n",
       "4         __label__earn  am international inc am nd qtr jan oper shr lo...\n",
       "...                 ...                                                ...\n",
       "6527      __label__jobs  n z unemployment rate pct in december quarter ...\n",
       "6528    __label__rubber  japan rubber stocks fall in march japan s rubb...\n",
       "6529  __label__money-fx  south korean won fixed at month high the bank ...\n",
       "6530    __label__copper  nippon mining lowers copper price nippon minin...\n",
       "6531      __label__ship  australian unions launch new south wales strik...\n",
       "\n",
       "[6532 rows x 2 columns]"
      ]
     },
     "execution_count": 5,
     "metadata": {},
     "output_type": "execute_result"
    }
   ],
   "source": [
    "test['label'] = '__label__'+test['label']\n",
    "train['label'] = '__label__'+train['label']\n",
    "train"
   ]
  },
  {
   "cell_type": "code",
   "execution_count": 6,
   "metadata": {},
   "outputs": [],
   "source": [
    "#saving train file\n",
    "train.to_csv('trainFT.txt', sep='\\t', header=None, index=False)\n",
    "test.to_csv('testFT.txt', sep='\\t', header=None, index=False)"
   ]
  },
  {
   "cell_type": "markdown",
   "metadata": {},
   "source": [
    "### Creating the model and testing"
   ]
  },
  {
   "cell_type": "code",
   "execution_count": 7,
   "metadata": {},
   "outputs": [],
   "source": [
    "ft_model = FasttextClassifier(train_data='trainFT.txt')"
   ]
  },
  {
   "cell_type": "code",
   "execution_count": 8,
   "metadata": {},
   "outputs": [
    {
     "data": {
      "text/plain": [
       "(2568, 0.926791277258567, 0.926791277258567)"
      ]
     },
     "execution_count": 8,
     "metadata": {},
     "output_type": "execute_result"
    }
   ],
   "source": [
    "ft_model.fasttext_test('testFT.txt')"
   ]
  },
  {
   "cell_type": "code",
   "execution_count": 16,
   "metadata": {},
   "outputs": [
    {
     "data": {
      "text/plain": [
       "(('__label__jobs',), array([0.99069309]))"
      ]
     },
     "execution_count": 16,
     "metadata": {},
     "output_type": "execute_result"
    }
   ],
   "source": [
    "ft_model.label('COVID is bringing an unemployment wave')"
   ]
  },
  {
   "cell_type": "markdown",
   "metadata": {},
   "source": [
    "## Creating FastText model from raw files"
   ]
  },
  {
   "cell_type": "markdown",
   "metadata": {},
   "source": [
    "In this example, we will take a dataset of raw files, divided into labels defined by their path.\n",
    "\n",
    "The dataset shall follow the format:  \n",
    "<pre>\n",
    ".  \n",
    "└── Dataset  \n",
    "    └── label1  \n",
    "    |   └── label_text.txt  \n",
    "    ├── label2  \n",
    "    |   ├── firstpost.txt  \n",
    "    |   ├── happy.txt     \n",
    "    |   └── secondpost.txt  \n",
    "    └── label3  \n",
    "        ├── text0.txt      \n",
    "        └── second.txt    \n",
    "</pre>\n",
    "  "
   ]
  },
  {
   "cell_type": "code",
   "execution_count": 17,
   "metadata": {},
   "outputs": [],
   "source": [
    "\n",
    "RAW_DATA_PATH = '../Data/texts'\n",
    "GENERATED_DATA_PATH = 'generated_files'\n",
    "MERGED_DATA_PATH ='merged'\n",
    "SHUFFLED_MERGED_DATA_PATH = 'shuffled_merged/'\n",
    "DATA_FINAL_PATH = 'data_final/'\n"
   ]
  },
  {
   "cell_type": "code",
   "execution_count": 18,
   "metadata": {},
   "outputs": [],
   "source": [
    "def read_all_texts(path_to_folders, outfile_path):\n",
    "    init_model=FasttextClassifier()\n",
    "    for folder in os.listdir(f'{path_to_folders}'):\n",
    "        init_model.gen_training(path= f'{path_to_folders}/{folder}', label= f'{folder}', outfile_path=f'{outfile_path}/{folder}')"
   ]
  },
  {
   "cell_type": "code",
   "execution_count": 19,
   "metadata": {
    "tags": []
   },
   "outputs": [
    {
     "name": "stdout",
     "output_type": "stream",
     "text": [
      "[ERROR] No training data.\n"
     ]
    }
   ],
   "source": [
    "if not os.path.exists(GENERATED_DATA_PATH):\n",
    "    os.mkdir(GENERATED_DATA_PATH)\n",
    "read_all_texts(RAW_DATA_PATH, GENERATED_DATA_PATH)"
   ]
  },
  {
   "cell_type": "markdown",
   "metadata": {},
   "source": [
    "### Merging files"
   ]
  },
  {
   "cell_type": "code",
   "execution_count": 20,
   "metadata": {},
   "outputs": [],
   "source": [
    "def merge_files(path_to_folder, outfile_path):\n",
    "    for file in os.listdir(f'{path_to_folder}'):\n",
    "            with open(f'{path_to_folder}/{file}', encoding='utf-8') as fp: \n",
    "                data = fp.read() \n",
    "                data += '\\n'\n",
    "                file_lst=[]\n",
    "                for filename in os.listdir(path_to_folder):\n",
    "                    with open(f'{path_to_folder}/{filename}', encoding='utf-8') as f:\n",
    "                        file_content = pd.read_csv(f, sep='\\t', header=None)\n",
    "                        file_lst.append(file_content)\n",
    "                        \n",
    "                merged = pd.concat(file_lst)\n",
    "                merged.to_csv(f'{outfile_path}/' + 'merged', header=False, index=False, sep='\\t')"
   ]
  },
  {
   "cell_type": "code",
   "execution_count": 21,
   "metadata": {},
   "outputs": [],
   "source": [
    "if not os.path.exists(MERGED_DATA_PATH):\n",
    "    os.mkdir(MERGED_DATA_PATH)\n",
    "    merge_files(GENERATED_DATA_PATH, MERGED_DATA_PATH)"
   ]
  },
  {
   "cell_type": "markdown",
   "metadata": {},
   "source": [
    "### Shuffle the data"
   ]
  },
  {
   "cell_type": "code",
   "execution_count": 22,
   "metadata": {},
   "outputs": [],
   "source": [
    "def shuffler(path_to_folder, outfile_path):\n",
    "    for file in os.listdir(f'{path_to_folder}'):\n",
    "            with open(f'{path_to_folder}/{file}', encoding='utf-8') as fp:\n",
    "                df=pd.read_csv(fp, sep='\\t', header=None)\n",
    "                df = df.sample(frac=1).reset_index(drop=True)\n",
    "    return df\n",
    "    df.to_csv(f'{outfile_path}/' + 'shuffled_merged' + '.txt', header=False, index=False, sep='\\t')"
   ]
  },
  {
   "cell_type": "code",
   "execution_count": 23,
   "metadata": {},
   "outputs": [],
   "source": [
    "shuffled_merged=shuffler(MERGED_DATA_PATH, SHUFFLED_MERGED_DATA_PATH)"
   ]
  },
  {
   "cell_type": "markdown",
   "metadata": {},
   "source": [
    "### Split train and test data"
   ]
  },
  {
   "cell_type": "code",
   "execution_count": 24,
   "metadata": {},
   "outputs": [],
   "source": [
    "X_train, X_test , y_train, y_test = train_test_split(shuffled_merged[1], shuffled_merged[0], test_size=0.33, random_state=42)"
   ]
  },
  {
   "cell_type": "code",
   "execution_count": 25,
   "metadata": {},
   "outputs": [],
   "source": [
    "train=pd.DataFrame(X_train)\n",
    "train.insert(0, '', y_train, True)\n",
    "#saving train file\n",
    "if not os.path.exists(DATA_FINAL_PATH):\n",
    "    os.mkdir(DATA_FINAL_PATH)\n",
    "train.to_csv(DATA_FINAL_PATH + 'train_data.txt', sep='\\t', header=None, index=False)"
   ]
  },
  {
   "cell_type": "code",
   "execution_count": 26,
   "metadata": {},
   "outputs": [],
   "source": [
    "test=pd.DataFrame(X_test)\n",
    "test.insert(0, '', y_test, True)\n",
    "#saving test file\n",
    "test.to_csv(DATA_FINAL_PATH + 'test_data.txt', sep='\\t', header=None, index=False)"
   ]
  },
  {
   "cell_type": "markdown",
   "metadata": {},
   "source": [
    "### Load files and create/test model"
   ]
  },
  {
   "cell_type": "code",
   "execution_count": 30,
   "metadata": {},
   "outputs": [
    {
     "data": {
      "text/plain": [
       "(4, 0.5, 0.5)"
      ]
     },
     "execution_count": 30,
     "metadata": {},
     "output_type": "execute_result"
    }
   ],
   "source": [
    "with open(DATA_FINAL_PATH + 'train_data.txt', encoding='utf-8') as train_txt:\n",
    "    final_train_data=train_txt.read()\n",
    "\n",
    "with open(DATA_FINAL_PATH + 'test_data.txt', encoding='utf-8') as test_txt:\n",
    "    final_test_data=test_txt.read()\n",
    "\n",
    "    \n",
    "ft_model=FasttextClassifier(train_data=str(DATA_FINAL_PATH + 'train_data.txt'))\n",
    "ft_model.fasttext_test(DATA_FINAL_PATH + 'test_data.txt')"
   ]
  },
  {
   "cell_type": "code",
   "execution_count": null,
   "metadata": {},
   "outputs": [],
   "source": []
  }
 ],
 "metadata": {
  "kernelspec": {
   "display_name": "Python 3",
   "language": "python",
   "name": "python3"
  },
  "language_info": {
   "codemirror_mode": {
    "name": "ipython",
    "version": 3
   },
   "file_extension": ".py",
   "mimetype": "text/x-python",
   "name": "python",
   "nbconvert_exporter": "python",
   "pygments_lexer": "ipython3",
   "version": "3.6.10"
  }
 },
 "nbformat": 4,
 "nbformat_minor": 4
}
